{
 "cells": [
  {
   "cell_type": "markdown",
   "metadata": {},
   "source": [
    "(abstracts)=\n",
    "# Abstracts\n",
    "\n",
    "## Introduction\n",
    "\n",
    "*Frame the abstracts with a paragraph summarizing the aims and the role of the app.* (help compress this. we can take details to appendix)\n",
    "\n",
    "The number of older adults (aged ≥50) undergoing live donor nephrectomy has quadrupled over the last two decades, a trend expected to persist given demographic shifts, updates in kidney transplant allocation, and changes to Kidney Disease: Improving Global Outcomes (KDIGO) guidelines. Despite this increase, critical knowledge gaps remain regarding the resiliency of older donors to physical stress, particularly the interplay of glomerular senescence and their adaptive capacity following a 50% nephron mass loss. Approximately 80% of older donors experience a post-donation GFR <60 ml/min/1.73m², meeting the definition of chronic kidney disease (CKD), placing them at increased risk of frailty and hospitalization as they progress toward CKD. However, no studies have identified clinical signatures of resiliency in this unique population, even as nephrectomy directly impacts their renal system and overall health.\n",
    "\n",
    "This thesis focuses on addressing these gaps by prioritizing the patient’s central question, \"Can I safely donate my kidney?\" over population-level metrics. The scientific aims include: (1) (A) quantifying donation-attributable risks of perioperative death and long-term risks of (B) end-stage renal disease (ESRD) and (C) mortality; (2) describing hospitalization prevalence in older donors compared to nondonors; and (3) implementing a risk calculator for perioperative death, long-term risk of ESRD and mortality, and sentinel hospitalization in older donors. \n",
    "\n",
    "This thesis will frame its work in the context of various areas of inquiry including kidney disease, aging research, and data science. The results of all three aims are delivered in an innovative tool, an app, to enhance provider-patient dialogue about kidney donation risks. But the architecture of the app offers so much more that will be discussed in the appendix.\n",
    " \n",
    "This thesis addresses the critical need to improve understanding of perioperative and long-term risks for older living kidney donors. By identifying resiliency markers and individualizing risk assessment, the study aims to empower older adults and providers with evidence-based tools to make informed decisions in a growing and vulnerable donor population.\n",
    "\n",
    "---\n",
    "\n",
    "## Perioperative Mortality\n",
    "Discuss immediate surgical risks for older donors, referencing Kaplan-Meier estimates.\n",
    "\n",
    "---\n",
    "\n",
    "## Long-term Risks (ESRD and Death)\n",
    "Compare lifetime risks of kidney failure and death in donors vs. matched nondonor cohorts.\n",
    "\n",
    "---\n",
    "\n",
    "## Hospitalization Risks\n",
    "Highlight trends in morbidity and their implications for older donors.\n",
    "\n",
    "---\n",
    "\n",
    "## App Features\n",
    "\n",
    "Explore the interactive visualizations below, designed to personalize risk profiles for older kidney donors. The app integrates data-driven insights from all three aims.\n",
    "\n",
    "<iframe src=\"../testbin/test5/index.html\" style=\"width:100%;height:900px\"></iframe>\n",
    "\n",
    "```{figure} ../figures/blanche.*\n",
    "---\n",
    "width: 1\n",
    "height: 1\n",
    "---\n",
    "_Aim 3: Implement a Calculator for Aims 1 & 2_. This thesis bridges the gap between static, group-mean traditional methods and dynamic, patient-centered innovations. The evolving role of technology in medicine is aligned with the importance of open science. This app complements traditional data representation, such as Kaplan-Meier curves or regression models (static), by offering interactive exploration of personalized risk factors (dynamic). This invites dialogue between the prospective donor and provider regarding inherent risks even if they do not donate, additional risks if they proceed with donation, and uncertainties regarding all the available estimates. The supplemental section of this thesis will address the technical aspects of the app and its potential role in the open science and open source movement.\n",
    "```\n",
    "\n",
    "---\n",
    "\n",
    "## Donation by older donors \n",
    "\n",
    "```{figure} https://www.tmc.edu/news/wp-content/uploads/sites/2/2019/08/kidney-copy.jpg\n",
    "---\n",
    "width:100%\n",
    "height:100%\n",
    "---\n",
    "An 84-year-old man became one of the oldest living kidney donors in the United States in May 2019. The consent process for donor candidates of advanced age relies on data extrapolated from younger cohorts, typically with a median age of 40 years. As the demographic profile of living kidney donors continues to age, gaps in both present and missing data become increasingly evident. This highlights the need to systematically characterize existing data and address these gaps to better inform consent processes and optimize outcomes. Frailty, which is strongly associated with a significantly increased risk of perioperative complications, {cite}`Makary2010` remains uncaptured in most existing databases. The absence of this critical metric creates additional challenges, particularly in consenting older individuals considering donation.  \n",
    "Photo Source: [Houston Methodist](https://www.houstonmethodist.org/newsroom/an-84-year-old-man-becomes-oldest-living-kidney-donor-in-the-united-states-at-houston-methodist/)\n",
    "```\n",
    "\n",
    "\n"
   ]
  }
 ],
 "metadata": {
  "kernelspec": {
   "display_name": "myenv",
   "language": "python",
   "name": "python3"
  },
  "language_info": {
   "codemirror_mode": {
    "name": "ipython",
    "version": 3
   },
   "file_extension": ".py",
   "mimetype": "text/x-python",
   "name": "python",
   "nbconvert_exporter": "python",
   "pygments_lexer": "ipython3",
   "version": "3.12.4"
  },
  "widgets": {
   "application/vnd.jupyter.widget-state+json": {
    "state": {},
    "version_major": 2,
    "version_minor": 0
   }
  }
 },
 "nbformat": 4,
 "nbformat_minor": 4
}